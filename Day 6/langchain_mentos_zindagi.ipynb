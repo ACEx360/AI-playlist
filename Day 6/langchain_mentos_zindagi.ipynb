{
  "nbformat": 4,
  "nbformat_minor": 0,
  "metadata": {
    "colab": {
      "provenance": []
    },
    "kernelspec": {
      "name": "python3",
      "display_name": "Python 3"
    },
    "language_info": {
      "name": "python"
    }
  },
  "cells": [
    {
      "cell_type": "code",
      "source": [
        "from abc import ABC, abstractmethod"
      ],
      "metadata": {
        "id": "X17XNOaKGr45"
      },
      "execution_count": 1,
      "outputs": []
    },
    {
      "cell_type": "code",
      "source": [
        "class Runnable(ABC):\n",
        "\n",
        "  @abstractmethod\n",
        "  def invoke(input_data):\n",
        "    pass"
      ],
      "metadata": {
        "id": "IFz_UygPG14c"
      },
      "execution_count": 2,
      "outputs": []
    },
    {
      "cell_type": "code",
      "source": [
        "import random\n",
        "import warnings\n",
        "\n",
        "class NakliLLM(Runnable):\n",
        "\n",
        "    def __init__(self):\n",
        "        print('LLM created')\n",
        "\n",
        "    def invoke(self, prompt):\n",
        "        response_list = [\n",
        "            'Delhi is the capital of India',\n",
        "            'IPL is a cricket league',\n",
        "            'AI stands for Artificial Intelligence'\n",
        "        ]\n",
        "        return {'response': random.choice(response_list)}\n",
        "\n",
        "    def predict(self, prompt):\n",
        "        warnings.warn(\n",
        "            \"'predict' is deprecated and will be removed in future updates. \"\n",
        "            \"Use 'invoke' instead.\",\n",
        "            DeprecationWarning,\n",
        "            stacklevel=2\n",
        "        )\n",
        "        response_list = [\n",
        "            'Delhi is the capital of India',\n",
        "            'IPL is a cricket league',\n",
        "            'AI stands for Artificial Intelligence'\n",
        "        ]\n",
        "        return {'response': random.choice(response_list)}\n"
      ],
      "metadata": {
        "id": "WPyqRUB0G2Fl"
      },
      "execution_count": 5,
      "outputs": []
    },
    {
      "cell_type": "code",
      "source": [
        "class NakliPromptTemplate(Runnable):\n",
        "\n",
        "  def __init__(self, template, input_variables):\n",
        "    self.template = template\n",
        "    self.input_variables = input_variables\n",
        "\n",
        "  def invoke(self, input_dict):\n",
        "    return self.template.format(**input_dict)\n",
        "\n",
        "  def format(self, input_dict):\n",
        "    return self.template.format(**input_dict)"
      ],
      "metadata": {
        "id": "KDiHeGomG5ek"
      },
      "execution_count": 7,
      "outputs": []
    },
    {
      "cell_type": "code",
      "source": [
        "class NakliStrOutputParser(Runnable):\n",
        "\n",
        "  def __init__(self):\n",
        "    pass\n",
        "\n",
        "  def invoke(self, input_data):\n",
        "    return input_data['response']"
      ],
      "metadata": {
        "id": "aN4aoIOXMn4z"
      },
      "execution_count": 8,
      "outputs": []
    },
    {
      "cell_type": "code",
      "source": [
        "class RunnableConnector(Runnable):\n",
        "\n",
        "  def __init__(self, runnable_list):\n",
        "    self.runnable_list = runnable_list\n",
        "\n",
        "  def invoke(self, input_data):\n",
        "\n",
        "    for runnable in self.runnable_list:\n",
        "      input_data = runnable.invoke(input_data)\n",
        "\n",
        "    return input_data"
      ],
      "metadata": {
        "id": "IMiDtySDIIzj"
      },
      "execution_count": 9,
      "outputs": []
    },
    {
      "cell_type": "code",
      "source": [
        "template = NakliPromptTemplate(\n",
        "    template='Write a {length} poem about {topic}',\n",
        "    input_variables=['length', 'topic']\n",
        ")"
      ],
      "metadata": {
        "id": "Y_c_Lk6fMJ8s"
      },
      "execution_count": 10,
      "outputs": []
    },
    {
      "cell_type": "code",
      "source": [
        "llm = NakliLLM()"
      ],
      "metadata": {
        "colab": {
          "base_uri": "https://localhost:8080/"
        },
        "id": "--x-JA5_MPgg",
        "outputId": "683ab719-865c-4d13-a3ef-723ab9b1bca9"
      },
      "execution_count": 11,
      "outputs": [
        {
          "output_type": "stream",
          "name": "stdout",
          "text": [
            "LLM created\n"
          ]
        }
      ]
    },
    {
      "cell_type": "code",
      "source": [
        "parser = NakliStrOutputParser()"
      ],
      "metadata": {
        "id": "3YC3jTYtM3Pr"
      },
      "execution_count": 12,
      "outputs": []
    },
    {
      "cell_type": "code",
      "source": [
        "chain = RunnableConnector([template, llm, parser])"
      ],
      "metadata": {
        "id": "vgp10rvlLrOt"
      },
      "execution_count": 13,
      "outputs": []
    },
    {
      "cell_type": "code",
      "source": [
        "chain.invoke({'length':'long', 'topic':'india'})"
      ],
      "metadata": {
        "colab": {
          "base_uri": "https://localhost:8080/",
          "height": 36
        },
        "id": "Vpbx5zxfMYtn",
        "outputId": "1cb11d57-1093-4aa4-e281-eac58eb4f75a"
      },
      "execution_count": 14,
      "outputs": [
        {
          "output_type": "execute_result",
          "data": {
            "text/plain": [
              "'IPL is a cricket league'"
            ],
            "application/vnd.google.colaboratory.intrinsic+json": {
              "type": "string"
            }
          },
          "metadata": {},
          "execution_count": 14
        }
      ]
    },
    {
      "cell_type": "code",
      "source": [
        "template1 = NakliPromptTemplate(\n",
        "    template='Write a joke about {topic}',\n",
        "    input_variables=['topic']\n",
        ")"
      ],
      "metadata": {
        "id": "MZ9QqMQhOGIH"
      },
      "execution_count": 15,
      "outputs": []
    },
    {
      "cell_type": "code",
      "source": [
        "template2 = NakliPromptTemplate(\n",
        "    template='Explain the following joke {response}',\n",
        "    input_variables=['response']\n",
        ")"
      ],
      "metadata": {
        "id": "-GPhO_fxPiSp"
      },
      "execution_count": 16,
      "outputs": []
    },
    {
      "cell_type": "code",
      "source": [
        "llm = NakliLLM()"
      ],
      "metadata": {
        "colab": {
          "base_uri": "https://localhost:8080/"
        },
        "id": "-tl05IwNPsmc",
        "outputId": "2cb5020f-6f50-4a97-8b3d-7b37d0188eee"
      },
      "execution_count": 17,
      "outputs": [
        {
          "output_type": "stream",
          "name": "stdout",
          "text": [
            "LLM created\n"
          ]
        }
      ]
    },
    {
      "cell_type": "code",
      "source": [
        "parser = NakliStrOutputParser()"
      ],
      "metadata": {
        "id": "VQEM8GzBPvTT"
      },
      "execution_count": 18,
      "outputs": []
    },
    {
      "cell_type": "code",
      "source": [
        "chain1 = RunnableConnector([template1, llm])"
      ],
      "metadata": {
        "id": "l4XLvuL0PxPz"
      },
      "execution_count": 19,
      "outputs": []
    },
    {
      "cell_type": "code",
      "source": [
        "chain2 = RunnableConnector([template2, llm, parser])"
      ],
      "metadata": {
        "id": "mnGtEGWMP6GQ"
      },
      "execution_count": 20,
      "outputs": []
    },
    {
      "cell_type": "code",
      "source": [
        "final_chain = RunnableConnector([chain1, chain2])"
      ],
      "metadata": {
        "id": "j4-MXTQZQIXF"
      },
      "execution_count": 21,
      "outputs": []
    },
    {
      "cell_type": "code",
      "source": [
        "final_chain.invoke({'topic':'cricket'})"
      ],
      "metadata": {
        "id": "lAS8bw7cQP2h",
        "outputId": "172d2137-5504-4146-d139-24ca8d2cf37f",
        "colab": {
          "base_uri": "https://localhost:8080/",
          "height": 36
        }
      },
      "execution_count": 22,
      "outputs": [
        {
          "output_type": "execute_result",
          "data": {
            "text/plain": [
              "'IPL is a cricket league'"
            ],
            "application/vnd.google.colaboratory.intrinsic+json": {
              "type": "string"
            }
          },
          "metadata": {},
          "execution_count": 22
        }
      ]
    },
    {
      "cell_type": "code",
      "source": [],
      "metadata": {
        "id": "36djpb9IQT2e"
      },
      "execution_count": null,
      "outputs": []
    }
  ]
}