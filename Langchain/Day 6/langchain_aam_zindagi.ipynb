{
  "cells": [
    {
      "cell_type": "code",
      "execution_count": 4,
      "metadata": {
        "id": "g2w84DVb-zZr"
      },
      "outputs": [],
      "source": [
        "import random\n",
        "\n",
        "class NakliLLM:\n",
        "\n",
        "  def __init__(self):\n",
        "    print('LLM created')\n",
        "\n",
        "  def predict(self, prompt):\n",
        "\n",
        "    response_list = [\n",
        "        'Delhi is the capital of India',\n",
        "        'IPL is a cricket league',\n",
        "        'AI stands for Artificial Intelligence'\n",
        "    ]\n",
        "\n",
        "    return {'response': random.choice(response_list)}"
      ]
    },
    {
      "cell_type": "code",
      "execution_count": 5,
      "metadata": {
        "id": "LSyL1BICA_GY"
      },
      "outputs": [],
      "source": [
        "class NakliPromptTemplate:\n",
        "    def __init__(self, template, input_variables):\n",
        "        self.template = template\n",
        "        self.input_variables = input_variables  \n",
        "\n",
        "    def format(self, input_dict):\n",
        "        # Check for missing variables\n",
        "        for var in self.input_variables:\n",
        "            if var not in input_dict:\n",
        "                raise ValueError(f\"Missing required variable: {var}\")\n",
        "\n",
        "        # Check for extra variables\n",
        "        for key in input_dict.keys():\n",
        "            if key not in self.input_variables:\n",
        "                raise ValueError(f\"Unexpected variable: {key}\")\n",
        "\n",
        "        return self.template.format(**input_dict)"
      ]
    },
    {
      "cell_type": "code",
      "execution_count": 6,
      "metadata": {
        "id": "0R8IWZ2uBZxS"
      },
      "outputs": [],
      "source": [
        "template = NakliPromptTemplate(\n",
        "    template='Write a {length} poem about {topic}',\n",
        "    input_variables=['length', 'topic']\n",
        ")"
      ]
    },
    {
      "cell_type": "code",
      "execution_count": 7,
      "metadata": {
        "id": "DtyZLAZkBig6"
      },
      "outputs": [],
      "source": [
        "prompt = template.format({'length':'short','topic':'india'})"
      ]
    },
    {
      "cell_type": "code",
      "execution_count": 8,
      "metadata": {
        "colab": {
          "base_uri": "https://localhost:8080/"
        },
        "id": "KZ8JclUYBmxC",
        "outputId": "a994fd64-52d8-43dd-c0ac-c78b50af84a4"
      },
      "outputs": [
        {
          "name": "stdout",
          "output_type": "stream",
          "text": [
            "LLM created\n"
          ]
        }
      ],
      "source": [
        "llm = NakliLLM()"
      ]
    },
    {
      "cell_type": "code",
      "execution_count": 9,
      "metadata": {
        "colab": {
          "base_uri": "https://localhost:8080/"
        },
        "id": "hFCYQXUwB-be",
        "outputId": "acb9f69b-7ead-4646-f899-33960ee78861"
      },
      "outputs": [
        {
          "data": {
            "text/plain": [
              "{'response': 'Delhi is the capital of India'}"
            ]
          },
          "execution_count": 9,
          "metadata": {},
          "output_type": "execute_result"
        }
      ],
      "source": [
        "llm.predict(prompt)"
      ]
    },
    {
      "cell_type": "code",
      "execution_count": 10,
      "metadata": {
        "id": "SGzmKwmDDOfe"
      },
      "outputs": [],
      "source": [
        "class NakliLLMChain:\n",
        "\n",
        "  def __init__(self, llm, prompt):\n",
        "    self.llm = llm\n",
        "    self.prompt = prompt\n",
        "\n",
        "  def run(self, input_dict):\n",
        "\n",
        "    final_prompt = self.prompt.format(input_dict)\n",
        "    result = self.llm.predict(final_prompt)\n",
        "\n",
        "    return result['response']\n"
      ]
    },
    {
      "cell_type": "code",
      "execution_count": 11,
      "metadata": {
        "id": "v2OAM5RLE0YS"
      },
      "outputs": [],
      "source": [
        "template = NakliPromptTemplate(\n",
        "    template='Write a {length} poem about {topic}',\n",
        "    input_variables=['length', 'topic']\n",
        ")"
      ]
    },
    {
      "cell_type": "code",
      "execution_count": 12,
      "metadata": {
        "colab": {
          "base_uri": "https://localhost:8080/"
        },
        "id": "uOSTUUlrE3l-",
        "outputId": "cf9337fc-3e39-4c5d-ea38-f5ddd22483c0"
      },
      "outputs": [
        {
          "name": "stdout",
          "output_type": "stream",
          "text": [
            "LLM created\n"
          ]
        }
      ],
      "source": [
        "llm = NakliLLM()"
      ]
    },
    {
      "cell_type": "code",
      "execution_count": 13,
      "metadata": {
        "id": "RB_pfYqvE5mT"
      },
      "outputs": [],
      "source": [
        "chain = NakliLLMChain(llm, template)"
      ]
    },
    {
      "cell_type": "code",
      "execution_count": 14,
      "metadata": {
        "colab": {
          "base_uri": "https://localhost:8080/",
          "height": 36
        },
        "id": "hQWSSazwE9DX",
        "outputId": "89edf026-7d60-4d63-c151-881605dc3d3d"
      },
      "outputs": [
        {
          "data": {
            "text/plain": [
              "'IPL is a cricket league'"
            ]
          },
          "execution_count": 14,
          "metadata": {},
          "output_type": "execute_result"
        }
      ],
      "source": [
        "chain.run({'length':'short', 'topic': 'india'})"
      ]
    }
  ],
  "metadata": {
    "colab": {
      "provenance": []
    },
    "kernelspec": {
      "display_name": ".venv",
      "language": "python",
      "name": "python3"
    },
    "language_info": {
      "codemirror_mode": {
        "name": "ipython",
        "version": 3
      },
      "file_extension": ".py",
      "mimetype": "text/x-python",
      "name": "python",
      "nbconvert_exporter": "python",
      "pygments_lexer": "ipython3",
      "version": "3.13.2"
    }
  },
  "nbformat": 4,
  "nbformat_minor": 0
}
