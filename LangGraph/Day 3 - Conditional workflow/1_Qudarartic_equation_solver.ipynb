{
 "cells": [
  {
   "cell_type": "code",
   "execution_count": 17,
   "id": "6bcf2c3e",
   "metadata": {},
   "outputs": [],
   "source": [
    "from langgraph.graph import StateGraph,START,END\n",
    "from typing import TypedDict,Literal"
   ]
  },
  {
   "cell_type": "code",
   "execution_count": 18,
   "id": "10252d15",
   "metadata": {},
   "outputs": [],
   "source": [
    "class equationState(TypedDict):\n",
    "    a:int\n",
    "    b:int\n",
    "    c:int\n",
    "    \n",
    "    equation:str\n",
    "    discriminant :float\n",
    "    res:str"
   ]
  },
  {
   "cell_type": "code",
   "execution_count": 19,
   "id": "708f777a",
   "metadata": {},
   "outputs": [],
   "source": [
    "def show_equation(state:equationState):\n",
    "    equation = f\"{state['a']}x^2 + {state['b']}x + {state['c']}\"\n",
    "    return {'equation':equation}"
   ]
  },
  {
   "cell_type": "code",
   "execution_count": 20,
   "id": "04180d7a",
   "metadata": {},
   "outputs": [],
   "source": [
    "def discriminant_finder(state:equationState):\n",
    "    discriminant = (state['b']**2)-(4*state['a']*state['c'])\n",
    "    return {'discriminant':discriminant}"
   ]
  },
  {
   "cell_type": "code",
   "execution_count": 21,
   "id": "f17e6e42",
   "metadata": {},
   "outputs": [],
   "source": [
    "def real_roots(state:equationState):\n",
    "    x1 = (-state['b'] + (state['discriminant'])**0.5)/(2*state['a'])\n",
    "    x2 = (-state['b'] - (state['discriminant'])**0.5)/(2*state['a'])\n",
    "    res =f\"The roots are real , and they are {x1} and {x2}\"\n",
    "    return {'res':res}\n",
    "\n",
    "def imaginary_roots(state:equationState):\n",
    "    res =f\"The roots are imaginary like your gf\"\n",
    "    return {'res':res}\n",
    "\n",
    "def real_equal_roots(state:equationState):\n",
    "    x1 = (-state['b'] + (state['discriminant'])**0.5)/(2*state['a'])\n",
    "    res =f\"The roots are real and equal , and they are {x1}\"\n",
    "    return {'res':res}"
   ]
  },
  {
   "cell_type": "code",
   "execution_count": 22,
   "id": "0d241fc5",
   "metadata": {},
   "outputs": [],
   "source": [
    "def check_discriminant(state:equationState)->Literal['Discriminanant_positive','Discriminanant_negative','Discriminanant_zero']:\n",
    "    if state['discriminant']>0:\n",
    "        return \"Discriminanant_positive\"\n",
    "    elif state['discriminant']<0:\n",
    "        return \"Discriminanant_negative\"\n",
    "    else:\n",
    "        return \"Discriminanant_zero\""
   ]
  },
  {
   "cell_type": "code",
   "execution_count": 23,
   "id": "907e1336",
   "metadata": {},
   "outputs": [],
   "source": [
    "graph=StateGraph(equationState)\n",
    "\n",
    "graph.add_node('Show_equation',show_equation)\n",
    "graph.add_node('Calculate_Discriminant',discriminant_finder)\n",
    "graph.add_node('Discriminanant_positive',real_roots)\n",
    "graph.add_node('Discriminanant_negative',imaginary_roots)\n",
    "graph.add_node('Discriminanant_zero',real_equal_roots)\n",
    "\n",
    "graph.add_edge(START,'Show_equation')\n",
    "graph.add_edge('Show_equation','Calculate_Discriminant')\n",
    "\n",
    "graph.add_conditional_edges('Calculate_Discriminant',check_discriminant)\n",
    "\n",
    "graph.add_edge('Discriminanant_positive',END)\n",
    "graph.add_edge('Discriminanant_negative',END)\n",
    "graph.add_edge('Discriminanant_zero',END)\n",
    "\n",
    "workflow = graph.compile()"
   ]
  },
  {
   "cell_type": "code",
   "execution_count": 24,
   "id": "deb40c77",
   "metadata": {},
   "outputs": [],
   "source": [
    "initial_state = {\n",
    "    'a':4,\n",
    "    'b':-5,\n",
    "    'c': -4\n",
    "}\n",
    "\n",
    "final_state = workflow.invoke(initial_state)"
   ]
  },
  {
   "cell_type": "code",
   "execution_count": 25,
   "id": "7e0f9b0e",
   "metadata": {},
   "outputs": [
    {
     "data": {
      "text/plain": [
       "{'a': 4,\n",
       " 'b': -5,\n",
       " 'c': -4,\n",
       " 'equation': '4x^2 + -5x + -4',\n",
       " 'discriminant': 89,\n",
       " 'res': 'The roots are real , and they are 1.8042476415070754 and -0.5542476415070754'}"
      ]
     },
     "execution_count": 25,
     "metadata": {},
     "output_type": "execute_result"
    }
   ],
   "source": [
    "final_state"
   ]
  },
  {
   "cell_type": "code",
   "execution_count": 26,
   "id": "2d0ab8aa",
   "metadata": {},
   "outputs": [
    {
     "data": {
      "image/png": "[encoded data removed]",
      "text/plain": [
       "<langgraph.graph.state.CompiledStateGraph object at 0x000002E8640EDE50>"
      ]
     },
     "execution_count": 26,
     "metadata": {},
     "output_type": "execute_result"
    }
   ],
   "source": [
    "workflow"
   ]
  },
  {
   "cell_type": "code",
   "execution_count": 15,
   "id": "8edce3b3",
   "metadata": {},
   "outputs": [
    {
     "name": "stdout",
     "output_type": "stream",
     "text": [
      "                                            +-----------+                                            \n",
      "                                            | __start__ |                                            \n",
      "                                            +-----------+                                            \n",
      "                                                  *                                                  \n",
      "                                                  *                                                  \n",
      "                                                  *                                                  \n",
      "                                          +---------------+                                          \n",
      "                                          | Show_equation |                                          \n",
      "                                          +---------------+                                          \n",
      "                                                  *                                                  \n",
      "                                                  *                                                  \n",
      "                                                  *                                                  \n",
      "                                      +------------------------+                                     \n",
      "                                      | Calculate_Discriminant |                                     \n",
      "                                    ..+------------------------+..                                   \n",
      "                             .......               .              .......                            \n",
      "                        .....                      .                     .....                       \n",
      "                    ....                           .                          ....                   \n",
      "+-------------------------+           +-------------------------+           +---------------------+  \n",
      "| Discriminanant_negative |           | Discriminanant_positive |           | Discriminanant_zero |  \n",
      "+-------------------------+***        +-------------------------+       ****+---------------------+  \n",
      "                              *******              *              ******                             \n",
      "                                     ******        *        ******                                   \n",
      "                                           ****    *    ****                                         \n",
      "                                             +---------+                                             \n",
      "                                             | __end__ |                                             \n",
      "                                             +---------+                                             \n"
     ]
    }
   ],
   "source": [
    "from IPython.display import Image\n",
    "print(workflow.get_graph().draw_ascii())"
   ]
  }
 ],
 "metadata": {
  "kernelspec": {
   "display_name": ".venv",
   "language": "python",
   "name": "python3"
  },
  "language_info": {
   "codemirror_mode": {
    "name": "ipython",
    "version": 3
   },
   "file_extension": ".py",
   "mimetype": "text/x-python",
   "name": "python",
   "nbconvert_exporter": "python",
   "pygments_lexer": "ipython3",
   "version": "3.13.2"
  }
 },
 "nbformat": 4,
 "nbformat_minor": 5
}
