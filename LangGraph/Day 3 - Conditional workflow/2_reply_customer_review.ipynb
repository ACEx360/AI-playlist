{
 "cells": [
  {
   "cell_type": "code",
   "execution_count": 45,
   "id": "54802724",
   "metadata": {},
   "outputs": [],
   "source": [
    "from langgraph.graph import StateGraph,START,END\n",
    "from langchain_google_genai import ChatGoogleGenerativeAI\n",
    "from dotenv import load_dotenv\n",
    "from typing import TypedDict,Literal\n",
    "from pydantic import BaseModel , Field"
   ]
  },
  {
   "cell_type": "code",
   "execution_count": 46,
   "id": "4ae7fe9c",
   "metadata": {},
   "outputs": [],
   "source": [
    "load_dotenv()\n",
    "model = ChatGoogleGenerativeAI(\n",
    "    model=\"gemini-2.0-flash-lite\",\n",
    "    max_tokens=250\n",
    ")"
   ]
  },
  {
   "cell_type": "code",
   "execution_count": 47,
   "id": "5b54c00e",
   "metadata": {},
   "outputs": [],
   "source": [
    "class sentiment_schema(BaseModel):\n",
    "    sentiment : Literal['positive','negative'] = Field(description=\"Sentiment of the review provided\")\n",
    "    \n",
    "class dianostic_schema(BaseModel):\n",
    "    issue_type: Literal[\"UX\", \"Performance\", \"Bug\", \"Support\", \"Other\"] = Field(description='The category of issue mentioned in the review')\n",
    "    tone: Literal[\"angry\", \"frustrated\", \"disappointed\", \"calm\"] = Field(description='The emotional tone expressed by the user')\n",
    "    urgency: Literal[\"low\", \"medium\", \"high\"] = Field(description='How urgent or critical the issue appears to be')"
   ]
  },
  {
   "cell_type": "code",
   "execution_count": 48,
   "id": "62359152",
   "metadata": {},
   "outputs": [],
   "source": [
    "sentiment_model = model.with_structured_output(sentiment_schema)\n",
    "dianostic_model = model.with_structured_output(dianostic_schema)"
   ]
  },
  {
   "cell_type": "code",
   "execution_count": 49,
   "id": "1e17192e",
   "metadata": {},
   "outputs": [],
   "source": [
    "class reviewState(TypedDict):\n",
    "    review:str\n",
    "    sentiment:Literal['positive','negative']\n",
    "    diagnosis:dict\n",
    "    reply:str"
   ]
  },
  {
   "cell_type": "code",
   "execution_count": 50,
   "id": "c3d7c935",
   "metadata": {},
   "outputs": [],
   "source": [
    "def Sentiment_analyser(state:reviewState):\n",
    "    prompt = f'For the following review find out the sentiment \\n {state[\"review\"]}'\n",
    "    sentiment = sentiment_model.invoke(prompt).sentiment\n",
    "    return {'sentiment':sentiment}"
   ]
  },
  {
   "cell_type": "code",
   "execution_count": 51,
   "id": "2b762dca",
   "metadata": {},
   "outputs": [],
   "source": [
    "def sentiment_checker(state:reviewState)->Literal['Positive_Feedback','Run_Diagnosis']:\n",
    "    if state['sentiment']=='positive':\n",
    "        return 'Positive_Feedback'\n",
    "    elif state['sentiment']=='negative':\n",
    "        return 'Run_Diagnosis'\n",
    "    else:\n",
    "        raise ValueError(\"Unidentified sentiment\")"
   ]
  },
  {
   "cell_type": "code",
   "execution_count": 52,
   "id": "39e9764c",
   "metadata": {},
   "outputs": [],
   "source": [
    "def positive_reposnse(state:reviewState):\n",
    "    prompt = f\"\"\"Write a warm thank-you message in response to this review:\\n\\n\n",
    "    \"{state['review']}\"\\n\\n\n",
    "    Also, kindly ask the user to leave feedback on our website.\"\"\"\n",
    "    reply = model.invoke(prompt).content\n",
    "    return {'reply':reply}"
   ]
  },
  {
   "cell_type": "code",
   "execution_count": 53,
   "id": "248b6b4f",
   "metadata": {},
   "outputs": [],
   "source": [
    "def Sentiment_Diagnosis(state:reviewState):\n",
    "    prompt = f\"\"\"Diagnose this negative review:\\n\\n\n",
    "    {state['review']}\\n\"\"\n",
    "    Return issue_type, tone, and urgency.\"\"\"\n",
    "    diagnosis = dianostic_model.invoke(prompt)\n",
    "    return {'diagnosis':diagnosis.model_dump()}\n",
    "\n",
    "\n",
    "def neagtive_reposnse(state:reviewState):\n",
    "    diagnosis = state['diagnosis']\n",
    "    prompt = f\"\"\"\n",
    "    You are a support assistant.\n",
    "    The user had a '{diagnosis['issue_type']}' issue, sounded '{diagnosis['tone']}', \n",
    "    and marked urgency as '{diagnosis['urgency']}'.\n",
    "\n",
    "    Original review: {state['review']}\n",
    "\n",
    "    Write an empathetic, helpful resolution message.\n",
    "    Also, kindly ask the user to leave feedback on our website.\n",
    "    \"\"\"\n",
    "    \n",
    "    reply = model.invoke(prompt)\n",
    "    return {'reply':reply}"
   ]
  },
  {
   "cell_type": "code",
   "execution_count": 54,
   "id": "0d0330a7",
   "metadata": {},
   "outputs": [],
   "source": [
    "graph =  StateGraph(reviewState)\n",
    "\n",
    "graph.add_node('Analyse_Sentiment',Sentiment_analyser)\n",
    "graph.add_node('Run_Diagnosis',Sentiment_Diagnosis)\n",
    "graph.add_node('Positive_Feedback',positive_reposnse)\n",
    "graph.add_node('Negative_Feedback',neagtive_reposnse)\n",
    "\n",
    "graph.add_edge(START,'Analyse_Sentiment')\n",
    "graph.add_conditional_edges('Analyse_Sentiment',sentiment_checker)\n",
    "graph.add_edge('Run_Diagnosis','Negative_Feedback')\n",
    "graph.add_edge('Positive_Feedback',END)\n",
    "graph.add_edge('Negative_Feedback',END)\n",
    "\n",
    "workflow = graph.compile()"
   ]
  },
  {
   "cell_type": "code",
   "execution_count": 31,
   "id": "67b215d1",
   "metadata": {},
   "outputs": [
    {
     "data": {
      "image/png": "[encoded data removed]",
      "text/plain": [
       "<langgraph.graph.state.CompiledStateGraph object at 0x000001F9B6611450>"
      ]
     },
     "execution_count": 31,
     "metadata": {},
     "output_type": "execute_result"
    }
   ],
   "source": [
    "workflow"
   ]
  },
  {
   "cell_type": "code",
   "execution_count": 42,
   "id": "b5c41080",
   "metadata": {},
   "outputs": [],
   "source": [
    "\n",
    "intial_state={\n",
    "    'review': \"I’ve been trying to log in for over an hour now, and the app keeps freezing on the authentication screen. I even tried reinstalling it, but no luck. This kind of bug is unacceptable, especially when it affects basic functionality.\"\n",
    "}\n",
    "final_state=workflow.invoke(intial_state)"
   ]
  },
  {
   "cell_type": "code",
   "execution_count": 43,
   "id": "b6587e0d",
   "metadata": {},
   "outputs": [
    {
     "data": {
      "text/plain": [
       "{'review': 'I’ve been trying to log in for over an hour now, and the app keeps freezing on the authentication screen. I even tried reinstalling it, but no luck. This kind of bug is unacceptable, especially when it affects basic functionality.',\n",
       " 'sentiment': 'negative',\n",
       " 'diagnosis': {'issue_type': 'Bug', 'tone': 'frustrated', 'urgency': 'high'},\n",
       " 'reply': AIMessage(content='Subject: Regarding your Login Issue - We\\'re on it!\\n\\nHi there,\\n\\nI\\'m so sorry to hear you\\'re experiencing this frustrating login issue! I understand how annoying it is when you can\\'t access the app, especially when it\\'s a basic function like logging in. I know you\\'ve already tried reinstalling, and I appreciate you taking that step.\\n\\nWe\\'re aware of this bug and our team is working hard to resolve it as quickly as possible. We\\'re currently investigating the cause of the freezing on the authentication screen and are looking into potential fixes right now.\\n\\nIn the meantime, I don\\'t have a guaranteed solution, but you could try a few things:\\n\\n*   **Restart your device:** Sometimes a simple restart can clear up temporary glitches.\\n*   **Check your internet connection:** Ensure you have a stable internet connection.\\n*   **Clear the app\\'s cache:** (Instructions vary depending on your device - a quick search for \"clear app cache [your device]\" should help).\\n\\nI\\'ll keep you updated on our progress. We\\'ll be sure to announce when the fix is available, and we apologize again for the inconvenience this is causing.', additional_kwargs={}, response_metadata={'prompt_feedback': {'block_reason': 0, 'safety_ratings': []}, 'finish_reason': 'MAX_TOKENS', 'safety_ratings': []}, id='run--129a1a8f-a421-4563-b904-36f75b3157b8-0', usage_metadata={'input_tokens': 114, 'output_tokens': 249, 'total_tokens': 363, 'input_token_details': {'cache_read': 0}})}"
      ]
     },
     "execution_count": 43,
     "metadata": {},
     "output_type": "execute_result"
    }
   ],
   "source": [
    "final_state"
   ]
  },
  {
   "cell_type": "code",
   "execution_count": 44,
   "id": "1261c8ac",
   "metadata": {},
   "outputs": [
    {
     "name": "stdout",
     "output_type": "stream",
     "text": [
      "                    +-----------+                      \n",
      "                    | __start__ |                      \n",
      "                    +-----------+                      \n",
      "                          *                            \n",
      "                          *                            \n",
      "                          *                            \n",
      "                +-------------------+                  \n",
      "                | Analyse_Sentiment |                  \n",
      "                +-------------------+                  \n",
      "                  ..             ...                   \n",
      "               ...                  ...                \n",
      "             ..                        ..              \n",
      "  +---------------+                      ..            \n",
      "  | Run_Diagnosis |                       .            \n",
      "  +---------------+                       .            \n",
      "          *                               .            \n",
      "          *                               .            \n",
      "          *                               .            \n",
      "+-------------------+           +-------------------+  \n",
      "| Negative_Feedback |           | Positive_Feedback |  \n",
      "+-------------------+           +-------------------+  \n",
      "                  **              **                   \n",
      "                    ***        ***                     \n",
      "                       **    **                        \n",
      "                     +---------+                       \n",
      "                     | __end__ |                       \n",
      "                     +---------+                       \n"
     ]
    }
   ],
   "source": [
    "from IPython.display import Image\n",
    "print(workflow.get_graph().draw_ascii())"
   ]
  }
 ],
 "metadata": {
  "kernelspec": {
   "display_name": ".venv",
   "language": "python",
   "name": "python3"
  },
  "language_info": {
   "codemirror_mode": {
    "name": "ipython",
    "version": 3
   },
   "file_extension": ".py",
   "mimetype": "text/x-python",
   "name": "python",
   "nbconvert_exporter": "python",
   "pygments_lexer": "ipython3",
   "version": "3.13.2"
  }
 },
 "nbformat": 4,
 "nbformat_minor": 5
}
