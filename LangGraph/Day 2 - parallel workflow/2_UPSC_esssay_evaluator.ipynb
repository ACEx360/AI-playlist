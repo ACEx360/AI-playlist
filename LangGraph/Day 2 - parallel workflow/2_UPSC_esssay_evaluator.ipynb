{
 "cells": [
  {
   "cell_type": "code",
   "execution_count": 4,
   "id": "cd08f401",
   "metadata": {},
   "outputs": [],
   "source": [
    "from langgraph.graph import StateGraph,START,END\n",
    "from langchain_google_genai import ChatGoogleGenerativeAI\n",
    "from pydantic import BaseModel,Field\n",
    "from typing import TypedDict,Annotated\n",
    "from dotenv import load_dotenv\n",
    "import operator"
   ]
  },
  {
   "cell_type": "code",
   "execution_count": 5,
   "id": "b81f27b5",
   "metadata": {},
   "outputs": [],
   "source": [
    "load_dotenv()\n",
    "model = ChatGoogleGenerativeAI(\n",
    "    model=\"gemini-2.0-flash-lite\",\n",
    "    max_tokens=250\n",
    ")"
   ]
  },
  {
   "cell_type": "code",
   "execution_count": 6,
   "id": "3b96e405",
   "metadata": {},
   "outputs": [],
   "source": [
    "class Evaluation_strucuture(BaseModel):\n",
    "    feedback : str = Field(description=\"Detailed feedback for the essay\")\n",
    "    score : int = Field(description=\"score out of 10\",le=10,ge=1)"
   ]
  },
  {
   "cell_type": "code",
   "execution_count": 7,
   "id": "b2efc515",
   "metadata": {},
   "outputs": [],
   "source": [
    "model_2 = model.with_structured_output(Evaluation_strucuture)"
   ]
  },
  {
   "cell_type": "code",
   "execution_count": 8,
   "id": "98315b9f",
   "metadata": {},
   "outputs": [],
   "source": [
    "essay = \"\"\"India in the Age of AI\n",
    "As the world enters a transformative era defined by artificial intelligence (AI), India stands at a critical juncture — one where it can either emerge as a global leader in AI innovation or risk falling behind in the technology race. The age of AI brings with it immense promise as well as unprecedented challenges, and how India navigates this landscape will shape its socio-economic and geopolitical future.\n",
    "\n",
    "India's strengths in the AI domain are rooted in its vast pool of skilled engineers, a thriving IT industry, and a growing startup ecosystem. With over 5 million STEM graduates annually and a burgeoning base of AI researchers, India possesses the intellectual capital required to build cutting-edge AI systems. Institutions like IITs, IIITs, and IISc have begun fostering AI research, while private players such as TCS, Infosys, and Wipro are integrating AI into their global services. In 2020, the government launched the National AI Strategy (AI for All) with a focus on inclusive growth, aiming to leverage AI in healthcare, agriculture, education, and smart mobility.\n",
    "\n",
    "One of the most promising applications of AI in India lies in agriculture, where predictive analytics can guide farmers on optimal sowing times, weather forecasts, and pest control. In healthcare, AI-powered diagnostics can help address India’s doctor-patient ratio crisis, particularly in rural areas. Educational platforms are increasingly using AI to personalize learning paths, while smart governance tools are helping improve public service delivery and fraud detection.\n",
    "\n",
    "However, the path to AI-led growth is riddled with challenges. Chief among them is the digital divide. While metropolitan cities may embrace AI-driven solutions, rural India continues to struggle with basic internet access and digital literacy. The risk of job displacement due to automation also looms large, especially for low-skilled workers. Without effective skilling and re-skilling programs, AI could exacerbate existing socio-economic inequalities.\n",
    "\n",
    "Another pressing concern is data privacy and ethics. As AI systems rely heavily on vast datasets, ensuring that personal data is used transparently and responsibly becomes vital. India is still shaping its data protection laws, and in the absence of a strong regulatory framework, AI systems may risk misuse or bias.\n",
    "\n",
    "To harness AI responsibly, India must adopt a multi-stakeholder approach involving the government, academia, industry, and civil society. Policies should promote open datasets, encourage responsible innovation, and ensure ethical AI practices. There is also a need for international collaboration, particularly with countries leading in AI research, to gain strategic advantage and ensure interoperability in global systems.\n",
    "\n",
    "India’s demographic dividend, when paired with responsible AI adoption, can unlock massive economic growth, improve governance, and uplift marginalized communities. But this vision will only materialize if AI is seen not merely as a tool for automation, but as an enabler of human-centered development.\n",
    "\n",
    "In conclusion, India in the age of AI is a story in the making — one of opportunity, responsibility, and transformation. The decisions we make today will not just determine India’s AI trajectory, but also its future as an inclusive, equitable, and innovation-driven society.\"\"\""
   ]
  },
  {
   "cell_type": "code",
   "execution_count": 9,
   "id": "47b98064",
   "metadata": {},
   "outputs": [],
   "source": [
    "class EssayState(TypedDict):\n",
    "    essay : str\n",
    "    \n",
    "    language_feedback : str\n",
    "    depth_analysis_feedback: str\n",
    "    clarity_feedback : str\n",
    "    overall_feedback : str\n",
    "    \n",
    "    all_scores : Annotated[list[int], operator.add]\n",
    "    avg_score : float\n",
    "    "
   ]
  },
  {
   "cell_type": "code",
   "execution_count": 10,
   "id": "3daf9fff",
   "metadata": {},
   "outputs": [],
   "source": [
    "def eval_language(state:EssayState):\n",
    "    prompt = f'Evaluate the language quality of the following essay and provide a feedback and assign a score out of 10 \\n {state[\"essay\"]}'\n",
    "    output = model_2.invoke(prompt)\n",
    "    return {'language_feedback':output.feedback,'all_scores':[output.score]}"
   ]
  },
  {
   "cell_type": "code",
   "execution_count": 11,
   "id": "337f70a4",
   "metadata": {},
   "outputs": [],
   "source": [
    "def depth_analyser(state:EssayState):\n",
    "    prompt = f'Evaluate the depth of analysis of the following essay and provide a feedback and assign a score out of 10 \\n {state[\"essay\"]}'\n",
    "    output = model_2.invoke(prompt)\n",
    "    return {'depth_analysis_feedback':output.feedback,'all_scores':[output.score]}"
   ]
  },
  {
   "cell_type": "code",
   "execution_count": 12,
   "id": "fb428580",
   "metadata": {},
   "outputs": [],
   "source": [
    "def eval_clarity_of_thought(state:EssayState):\n",
    "    prompt = f'Evaluate the clarity of thought of the following essay and provide a feedback and assign a score out of 10 \\n {state[\"essay\"]}'\n",
    "    output = model_2.invoke(prompt)\n",
    "    return {'clarity_feedback':output.feedback,'all_scores':[output.score]}"
   ]
  },
  {
   "cell_type": "code",
   "execution_count": 13,
   "id": "daeeb036",
   "metadata": {},
   "outputs": [],
   "source": [
    "def final_evaluator(state:EssayState):\n",
    "    prompt = f'Based on the following feedbacks create a summarized feedback \\n language feedback - {state[\"language_feedback\"]} \\n depth of analysis feedback - {state[\"depth_analysis_feedback\"]} \\n clarity of thought feedback - {state[\"clarity_feedback\"]}'\n",
    "    \n",
    "    overall_feedback = model.invoke(prompt).content\n",
    "    avg_score = sum(state[\"all_scores\"])/len(state[\"all_scores\"])\n",
    "    \n",
    "    return {'overall_feedback':overall_feedback,'avg_score':avg_score}"
   ]
  },
  {
   "cell_type": "code",
   "execution_count": 14,
   "id": "b880de69",
   "metadata": {},
   "outputs": [],
   "source": [
    "graph = StateGraph(EssayState)\n",
    "\n",
    "graph.add_node('language_evaluator',eval_language)\n",
    "graph.add_node('analyse_depth',depth_analyser)\n",
    "graph.add_node('Clarity_of_thought',eval_clarity_of_thought)\n",
    "graph.add_node('Final_Evaluator',final_evaluator)\n",
    "\n",
    "graph.add_edge(START,\"language_evaluator\")\n",
    "graph.add_edge(START,\"analyse_depth\")\n",
    "graph.add_edge(START,\"Clarity_of_thought\")\n",
    "\n",
    "graph.add_edge('language_evaluator','Final_Evaluator')\n",
    "graph.add_edge('analyse_depth','Final_Evaluator')\n",
    "graph.add_edge('Clarity_of_thought','Final_Evaluator')\n",
    "\n",
    "graph.add_edge('Final_Evaluator',END)\n",
    "\n",
    "workflow = graph.compile()"
   ]
  },
  {
   "cell_type": "code",
   "execution_count": 15,
   "id": "a6af11f6",
   "metadata": {},
   "outputs": [
    {
     "data": {
      "image/png": "[encoded data removed]",
      "text/plain": [
       "<langgraph.graph.state.CompiledStateGraph object at 0x0000021AC7114590>"
      ]
     },
     "execution_count": 15,
     "metadata": {},
     "output_type": "execute_result"
    }
   ],
   "source": [
    "workflow"
   ]
  },
  {
   "cell_type": "code",
   "execution_count": 16,
   "id": "b5c5c8ac",
   "metadata": {},
   "outputs": [],
   "source": [
    "essay2 = \"\"\"India and AI Time\n",
    "\n",
    "Now world change very fast because new tech call Artificial Intel… something (AI). India also want become big in this AI thing. If work hard, India can go top. But if no careful, India go back.\n",
    "\n",
    "India have many good. We have smart student, many engine-ear, and good IT peoples. Big company like TCS, Infosys, Wipro already use AI. Government also do program “AI for All”. It want AI in farm, doctor place, school and transport.\n",
    "\n",
    "In farm, AI help farmer know when to put seed, when rain come, how stop bug. In health, AI help doctor see sick early. In school, AI help student learn good. Government office use AI to find bad people and work fast.\n",
    "\n",
    "But problem come also. First is many villager no have phone or internet. So AI not help them. Second, many people lose job because AI and machine do work. Poor people get more bad.\n",
    "\n",
    "One more big problem is privacy. AI need big big data. Who take care? India still make data rule. If no strong rule, AI do bad.\n",
    "\n",
    "India must all people together – govern, school, company and normal people. We teach AI and make sure AI not bad. Also talk to other country and learn from them.\n",
    "\n",
    "If India use AI good way, we become strong, help poor and make better life. But if only rich use AI, and poor no get, then big bad thing happen.\n",
    "\n",
    "So, in short, AI time in India have many hope and many danger. We must go right road. AI must help all people, not only some. Then India grow big and world say \"good job India\".\"\"\""
   ]
  },
  {
   "cell_type": "code",
   "execution_count": 17,
   "id": "6069d99e",
   "metadata": {},
   "outputs": [],
   "source": [
    "initial_state = {'essay':essay2}\n",
    "final_state = workflow.invoke(initial_state)"
   ]
  },
  {
   "cell_type": "code",
   "execution_count": 18,
   "id": "4c490890",
   "metadata": {},
   "outputs": [
    {
     "data": {
      "text/plain": [
       "{'essay': 'India and AI Time\\n\\nNow world change very fast because new tech call Artificial Intel… something (AI). India also want become big in this AI thing. If work hard, India can go top. But if no careful, India go back.\\n\\nIndia have many good. We have smart student, many engine-ear, and good IT peoples. Big company like TCS, Infosys, Wipro already use AI. Government also do program “AI for All”. It want AI in farm, doctor place, school and transport.\\n\\nIn farm, AI help farmer know when to put seed, when rain come, how stop bug. In health, AI help doctor see sick early. In school, AI help student learn good. Government office use AI to find bad people and work fast.\\n\\nBut problem come also. First is many villager no have phone or internet. So AI not help them. Second, many people lose job because AI and machine do work. Poor people get more bad.\\n\\nOne more big problem is privacy. AI need big big data. Who take care? India still make data rule. If no strong rule, AI do bad.\\n\\nIndia must all people together – govern, school, company and normal people. We teach AI and make sure AI not bad. Also talk to other country and learn from them.\\n\\nIf India use AI good way, we become strong, help poor and make better life. But if only rich use AI, and poor no get, then big bad thing happen.\\n\\nSo, in short, AI time in India have many hope and many danger. We must go right road. AI must help all people, not only some. Then India grow big and world say \"good job India\".',\n",
       " 'language_feedback': \"The essay demonstrates a basic understanding of AI's potential in India but suffers from significant grammatical errors, awkward phrasing, and inconsistent tense usage. The writing style is simplistic and lacks sophistication. While the points raised are relevant, the overall quality of expression needs considerable improvement. The essay could benefit from clearer sentence structure, correct spelling, and a more formal tone. Specifically, the essay contains numerous spelling errors (e.g., 'engine-ear', 'peoples'), grammatical errors (e.g., incorrect verb tenses, subject-verb disagreements), and awkward phrasing that hinders comprehension. The ideas presented are somewhat repetitive and lack depth. Consider revising for clarity, accuracy, and a more professional tone.\",\n",
       " 'depth_analysis_feedback': 'The essay provides a basic overview of AI in India, touching upon potential benefits and challenges. However, the analysis lacks depth, offering only superficial explanations. For instance, the discussion on job displacement and data privacy lacks detailed exploration. The essay could benefit from specific examples and a more nuanced understanding of the issues. The writing style is simplistic.',\n",
       " 'clarity_feedback': \"The essay demonstrates a basic understanding of AI's potential in India, highlighting both opportunities and challenges. However, the writing lacks clarity and structure, with grammatical errors and simplistic language hindering comprehension. The arguments presented are somewhat superficial, and the essay could benefit from more in-depth analysis and specific examples to support the claims. The conclusion reiterates the main points but lacks a strong call to action or a forward-looking perspective.\",\n",
       " 'overall_feedback': \"This essay demonstrates a basic understanding of AI's potential in India but requires significant improvement in several key areas. While the essay touches upon relevant points, its primary weaknesses are:\\n\\n*   **Poor Writing Quality:** The essay suffers from numerous grammatical errors, spelling mistakes, awkward phrasing, and inconsistent tense usage. The writing style is simplistic and lacks sophistication, hindering comprehension.\\n*   **Lack of Depth and Analysis:** The essay provides a superficial overview of the topic, lacking detailed exploration of key issues like job displacement and data privacy. Arguments are not supported by specific examples, and the analysis lacks nuance.\\n*   **Clarity and Structure:** The essay's clarity is compromised by grammatical errors and simplistic language. The structure could be improved with a more logical flow of ideas and a stronger conclusion.\\n\\nTo improve, the essay needs a thorough revision focusing on clarity, accuracy, depth of analysis, and a more professional tone. Specifically, the author should address spelling and grammatical errors, provide more in-depth analysis with specific examples, and structure the essay for better clarity and coherence.\",\n",
       " 'all_scores': [5, 5, 4],\n",
       " 'avg_score': 4.666666666666667}"
      ]
     },
     "execution_count": 18,
     "metadata": {},
     "output_type": "execute_result"
    }
   ],
   "source": [
    "final_state"
   ]
  },
  {
   "cell_type": "code",
   "execution_count": 19,
   "id": "1bdfb94d",
   "metadata": {},
   "outputs": [
    {
     "data": {
      "text/plain": [
       "4.666666666666667"
      ]
     },
     "execution_count": 19,
     "metadata": {},
     "output_type": "execute_result"
    }
   ],
   "source": [
    "final_state['avg_score']"
   ]
  },
  {
   "cell_type": "code",
   "execution_count": null,
   "id": "5cb488ff",
   "metadata": {},
   "outputs": [],
   "source": []
  }
 ],
 "metadata": {
  "kernelspec": {
   "display_name": ".venv",
   "language": "python",
   "name": "python3"
  },
  "language_info": {
   "codemirror_mode": {
    "name": "ipython",
    "version": 3
   },
   "file_extension": ".py",
   "mimetype": "text/x-python",
   "name": "python",
   "nbconvert_exporter": "python",
   "pygments_lexer": "ipython3",
   "version": "3.13.2"
  }
 },
 "nbformat": 4,
 "nbformat_minor": 5
}
