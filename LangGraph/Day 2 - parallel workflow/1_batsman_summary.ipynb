{
 "cells": [
  {
   "cell_type": "code",
   "execution_count": 23,
   "id": "003927f9",
   "metadata": {},
   "outputs": [],
   "source": [
    "from langgraph.graph import StateGraph,START,END\n",
    "from typing import TypedDict"
   ]
  },
  {
   "cell_type": "code",
   "execution_count": 24,
   "id": "e696b48b",
   "metadata": {},
   "outputs": [],
   "source": [
    "class BatsmanState(TypedDict):\n",
    "    balls : int\n",
    "    runs : int\n",
    "    fours :int\n",
    "    sixes : int\n",
    "    \n",
    "    strike_rate : float\n",
    "    balls_per_boundary : float\n",
    "    boundary_percent : float\n",
    "    summary:str "
   ]
  },
  {
   "cell_type": "markdown",
   "id": "15bfae7f",
   "metadata": {},
   "source": [
    "#### Note : Why state is not returned in following finctions\n",
    "InvalidUpdateError: At key 'balls': Can receive only one value per step. Use an Annotated key to handle multiple values.\n",
    "\n",
    "it means we are trying to update each element of state simultaneously which is creating problem as these are parallel workflow\n",
    "\n",
    "to Counter that we do not return state else we do ***partial update***\n",
    "\n",
    "just a recommendation - always try to do partial updates if possible"
   ]
  },
  {
   "cell_type": "code",
   "execution_count": 25,
   "id": "040e8c22",
   "metadata": {},
   "outputs": [],
   "source": [
    "def calc_strike_rate(state:BatsmanState):\n",
    "    strike_rate = (state['runs']/state['balls'])*100\n",
    "    return {'strike_rate':strike_rate}"
   ]
  },
  {
   "cell_type": "code",
   "execution_count": 26,
   "id": "489da34b",
   "metadata": {},
   "outputs": [],
   "source": [
    "def calc_balls_per_boundary(state:BatsmanState):\n",
    "    balls_per_boundary = state['balls']/(state['fours'] + state['sixes'])\n",
    "    return {'balls_per_boundary':balls_per_boundary}"
   ]
  },
  {
   "cell_type": "code",
   "execution_count": 27,
   "id": "9b57b018",
   "metadata": {},
   "outputs": [],
   "source": [
    "def calc_boundary_percent(state:BatsmanState):\n",
    "    boundary_percent = state['balls']/(state['fours'] + state['sixes'])\n",
    "    return {'boundary_percent':boundary_percent}"
   ]
  },
  {
   "cell_type": "code",
   "execution_count": 28,
   "id": "672528a9",
   "metadata": {},
   "outputs": [],
   "source": [
    "def summarizer(state:BatsmanState)->BatsmanState:\n",
    "    summary=f\"\"\"\n",
    "    strike rate = {state['strike_rate']}\n",
    "    balls per boundary = {state['balls_per_boundary']}\n",
    "    boundary percent = {state['boundary_percent']}\n",
    "    \"\"\"\n",
    "    state[summary]=summary\n",
    "    return state"
   ]
  },
  {
   "cell_type": "code",
   "execution_count": 29,
   "id": "57bd45e3",
   "metadata": {},
   "outputs": [],
   "source": [
    "graph = StateGraph(BatsmanState)\n",
    "\n",
    "# ADD NODES\n",
    "graph.add_node('Calculate_strike_rate',calc_strike_rate)\n",
    "graph.add_node('Calculate_balls_per_boundary',calc_balls_per_boundary)\n",
    "graph.add_node('Calculate_boundary_percent',calc_boundary_percent)\n",
    "graph.add_node('Compile_Summary',summarizer)\n",
    "\n",
    "# ADD EDGES\n",
    "graph.add_edge(START,'Calculate_strike_rate')\n",
    "graph.add_edge(START,'Calculate_balls_per_boundary')\n",
    "graph.add_edge(START,'Calculate_boundary_percent')\n",
    "\n",
    "graph.add_edge('Calculate_strike_rate','Compile_Summary')\n",
    "graph.add_edge('Calculate_balls_per_boundary','Compile_Summary')\n",
    "graph.add_edge('Calculate_boundary_percent','Compile_Summary')\n",
    "\n",
    "graph.add_edge('Compile_Summary',END)\n",
    "\n",
    "# COMPILE\n",
    "workflow = graph.compile()"
   ]
  },
  {
   "cell_type": "code",
   "execution_count": 30,
   "id": "d5a2cc05",
   "metadata": {},
   "outputs": [],
   "source": [
    "initial_state = {\n",
    "    'runs': 100,\n",
    "    'balls': 50,\n",
    "    'fours': 6,\n",
    "    'sixes': 4\n",
    "}\n",
    "final_state = workflow.invoke(initial_state)"
   ]
  },
  {
   "cell_type": "code",
   "execution_count": 35,
   "id": "75fb8457",
   "metadata": {},
   "outputs": [
    {
     "data": {
      "text/plain": [
       "{'balls': 50,\n",
       " 'runs': 100,\n",
       " 'fours': 6,\n",
       " 'sixes': 4,\n",
       " 'strike_rate': 200.0,\n",
       " 'balls_per_boundary': 5.0,\n",
       " 'boundary_percent': 5.0}"
      ]
     },
     "execution_count": 35,
     "metadata": {},
     "output_type": "execute_result"
    }
   ],
   "source": [
    "final_state"
   ]
  },
  {
   "cell_type": "code",
   "execution_count": 34,
   "id": "7cd72bbd",
   "metadata": {},
   "outputs": [
    {
     "data": {
      "image/png": "[encoded data removed]",
      "text/plain": [
       "<langgraph.graph.state.CompiledStateGraph object at 0x000002A1325E8A50>"
      ]
     },
     "execution_count": 34,
     "metadata": {},
     "output_type": "execute_result"
    }
   ],
   "source": [
    "workflow"
   ]
  },
  {
   "cell_type": "code",
   "execution_count": 31,
   "id": "efbb613a",
   "metadata": {},
   "outputs": [
    {
     "name": "stdout",
     "output_type": "stream",
     "text": [
      "                                                  +-----------+                                                \n",
      "                                               ***| __start__ |***                                             \n",
      "                                        *******   +-----------+   *******                                      \n",
      "                                  ******                 *               *******                               \n",
      "                           *******                        *                     *******                        \n",
      "                       ****                               *                            ****                    \n",
      "+------------------------------+           +----------------------------+           +-----------------------+  \n",
      "| Calculate_balls_per_boundary |           | Calculate_boundary_percent |           | Calculate_strike_rate |  \n",
      "+------------------------------+**         +----------------------------+       ****+-----------------------+  \n",
      "                                  ******                  *               ******                               \n",
      "                                        *******          *         *******                                     \n",
      "                                               ****      *     ****                                            \n",
      "                                               +-----------------+                                             \n",
      "                                               | Compile_Summary |                                             \n",
      "                                               +-----------------+                                             \n",
      "                                                        *                                                      \n",
      "                                                        *                                                      \n",
      "                                                        *                                                      \n",
      "                                                   +---------+                                                 \n",
      "                                                   | __end__ |                                                 \n",
      "                                                   +---------+                                                 \n"
     ]
    }
   ],
   "source": [
    "from IPython.display import Image\n",
    "print(workflow.get_graph().draw_ascii())"
   ]
  },
  {
   "cell_type": "code",
   "execution_count": null,
   "id": "98e67818",
   "metadata": {},
   "outputs": [],
   "source": []
  }
 ],
 "metadata": {
  "kernelspec": {
   "display_name": ".venv",
   "language": "python",
   "name": "python3"
  },
  "language_info": {
   "codemirror_mode": {
    "name": "ipython",
    "version": 3
   },
   "file_extension": ".py",
   "mimetype": "text/x-python",
   "name": "python",
   "nbconvert_exporter": "python",
   "pygments_lexer": "ipython3",
   "version": "3.13.2"
  }
 },
 "nbformat": 4,
 "nbformat_minor": 5
}
