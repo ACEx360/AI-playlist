{
 "cells": [
  {
   "cell_type": "markdown",
   "id": "6f37d3db",
   "metadata": {},
   "source": [
    "***Note :*** Always Check if input and output tokens llm require are under 'max_token' you decided\n",
    "- I limited the token that created the problem that made create_post function to not generate post\n",
    "- and give an empty result\n",
    "- It took me 15 minutes to debug \n",
    "\n",
    "***Note :*** Consistent naming\n",
    "- I named class varibles differently , it caused me problem i debuggiung\n",
    "- just name them consistently if if they are different ,classes ,function,etc \n",
    "- unles their content is different maintain consistency"
   ]
  },
  {
   "cell_type": "code",
   "execution_count": 2,
   "id": "86f9fff7",
   "metadata": {},
   "outputs": [],
   "source": [
    "from langchain_google_genai import ChatGoogleGenerativeAI\n",
    "from langchain_core.messages import SystemMessage,HumanMessage\n",
    "from langgraph.graph import StateGraph,START,END\n",
    "from typing import TypedDict,Literal,Annotated\n",
    "from dotenv import load_dotenv\n",
    "from pydantic import BaseModel,Field\n",
    "import operator"
   ]
  },
  {
   "cell_type": "code",
   "execution_count": 3,
   "id": "b6251e5f",
   "metadata": {},
   "outputs": [],
   "source": [
    "load_dotenv()\n",
    "model = ChatGoogleGenerativeAI(\n",
    "    model='gemini-2.0-flash-lite',\n",
    "    max_tokens=1000\n",
    ")"
   ]
  },
  {
   "cell_type": "code",
   "execution_count": 4,
   "id": "d1547895",
   "metadata": {},
   "outputs": [],
   "source": [
    "class PostSchema(BaseModel):\n",
    "    evaluation: Literal[\"approved\", \"remake\"] = Field(..., description=\"Final evaluation result of Linkldn post.\")\n",
    "    feedback: str = Field(..., description=\"Constructive feedback about post strengths and weaknesses\")"
   ]
  },
  {
   "cell_type": "code",
   "execution_count": 5,
   "id": "864022e0",
   "metadata": {},
   "outputs": [],
   "source": [
    "generator_model = ChatGoogleGenerativeAI(\n",
    "    model='gemini-2.5-flash'\n",
    ")\n",
    "\n",
    "evaluator_model = model.with_structured_output(PostSchema)\n",
    "\n",
    "optimizer_model = ChatGoogleGenerativeAI(\n",
    "    model='gemini-2.5-flash'\n",
    ")"
   ]
  },
  {
   "cell_type": "code",
   "execution_count": 6,
   "id": "f380adf2",
   "metadata": {},
   "outputs": [],
   "source": [
    "class PostState(TypedDict):\n",
    "    topic : str\n",
    "    post : str\n",
    "    evaluation : Literal['approved','remake']\n",
    "    feedback : str\n",
    "    iterations : int\n",
    "    max_iter :int\n",
    "    post_history :Annotated[list[str],operator.add]\n",
    "    feedback_history : Annotated[list[str],operator.add]"
   ]
  },
  {
   "cell_type": "code",
   "execution_count": null,
   "id": "4cb1f321",
   "metadata": {},
   "outputs": [],
   "source": [
    "# the given propmpt is only for testing iterations ,the Original prompt is\n",
    "#  messages = [\n",
    "#         SystemMessage(content=\"You are a witty, relatable, and ambitious engineering student on LinkedIn.\"),\n",
    "#         HumanMessage(content=f\"\"\"\n",
    "# Write a short, original, and engaging LinkedIn post on the topic: \"{state['topic']}\".\n",
    "\n",
    "# Rules:\n",
    "# - Keep it concise (2–4 sentences).\n",
    "# - Tone: professional yet authentic, like a student sharing thoughts or experiences.\n",
    "# - Add a touch of wit, light humor, or relatability (but not cringe).\n",
    "# - Should show curiosity, learning, or personal growth.\n",
    "# - No hashtags, emojis, or forced motivation.\n",
    "# \"\"\")\n",
    "#     ]\n",
    "def post_creator(state:PostState):\n",
    "    messages = [\n",
    "    SystemMessage(content=\"You are a witty, relatable, and ambitious engineering student on LinkedIn.\"),\n",
    "    HumanMessage(content=f\"\"\"\n",
    "Creat a linkldn post using following context\n",
    "\"\"\")\n",
    "]\n",
    "    response = generator_model.invoke(messages).content\n",
    "    return {'post':response,'post_history':[response]}\n"
   ]
  },
  {
   "cell_type": "code",
   "execution_count": 9,
   "id": "da7c8438",
   "metadata": {},
   "outputs": [],
   "source": [
    "def post_evaluator(state: PostState):\n",
    "    # Stop if we've already hit max iterations\n",
    "    if state.get(\"iterations\", 1) >= state.get(\"max_iter\", 3):\n",
    "        return {\n",
    "            \"evaluation\": \"approved\",\n",
    "            \"feedback\": \"Accepted after reaching max iterations.\",\n",
    "            \"feedback_history\": state.get(\"feedback_history\", []),\n",
    "        }\n",
    "\n",
    "    messages = [\n",
    "        SystemMessage(content=\"\"\"\n",
    "You are a constructive but firm LinkedIn post critic. \n",
    "Goal: help refine the post in no more than 3 iterations.\n",
    "Be forgiving if the post is decent, but reject clearly weak drafts.\n",
    "\"\"\"),\n",
    "        HumanMessage(content=f\"\"\"\n",
    "Evaluate the following LinkedIn post:\n",
    "\n",
    "Post: \"{state['post']}\"\n",
    "\n",
    "Criteria:\n",
    "1. Originality – Should feel personal and authentic.  \n",
    "2. Clarity – Should be easy to follow and well-structured.  \n",
    "3. Professionalism – Should balance professional + relatable tone.  \n",
    "4. Engagement – Should spark curiosity or conversation.  \n",
    "5. Format – Concise (2–4 sentences), no hashtags/emojis.  \n",
    "\n",
    "Reject only if:\n",
    "- It’s cliché motivational filler (\"Never give up…\").  \n",
    "- It’s overloaded with jargon or salesy.  \n",
    "- It has hashtags/emojis.  \n",
    "- It feels fake, generic, or incoherent.  \n",
    "\n",
    "### Respond ONLY in this JSON-like format:\n",
    "- evaluation: \"approved\" or \"remake\"  \n",
    "- feedback:  \n",
    "    - If approved → 1–2 sentences on strengths, plus at most one suggestion.  \n",
    "    - If remake → 1–2 clear points on what needs fixing (no long lists).\n",
    "\"\"\")\n",
    "    ]\n",
    "\n",
    "    response = evaluator_model.invoke(messages)\n",
    "\n",
    "    return {\n",
    "        \"evaluation\": response.evaluation,\n",
    "        \"feedback\": response.feedback,\n",
    "        \"feedback_history\": [response.feedback]\n",
    "    }\n"
   ]
  },
  {
   "cell_type": "code",
   "execution_count": 10,
   "id": "e82ce100",
   "metadata": {},
   "outputs": [],
   "source": [
    "def post_optimizer(state:PostState):\n",
    "    messages = [\n",
    "    SystemMessage(content=\"You improve LinkedIn posts to make them clearer, more engaging, and professional while keeping an authentic student voice.\"),\n",
    "    HumanMessage(content=f\"\"\"\n",
    "Improve the LinkedIn post based on this feedback:\n",
    "\"{state['feedback']}\"\n",
    "\n",
    "Topic: \"{state['topic']}\"\n",
    "Original Post:\n",
    "{state['post']}\n",
    "\n",
    "Re-write it as a short, engaging LinkedIn post (2–4 sentences).  \n",
    "Rules:\n",
    "- Professional but authentic (like a student sharing thoughts or experiences).  \n",
    "- No hashtags, emojis, or Q&A style.  \n",
    "- Avoid motivational clichés and corporate buzzwords.  \n",
    "\"\"\")\n",
    "]\n",
    "    response = optimizer_model.invoke(messages).content\n",
    "    iterations = state['iterations']+1\n",
    "    return {'post':response,'iterations':iterations,'post_history':[response]}"
   ]
  },
  {
   "cell_type": "code",
   "execution_count": 11,
   "id": "5bcaf016",
   "metadata": {},
   "outputs": [],
   "source": [
    "def post_validator(state:PostState):\n",
    "    if state['evaluation']=='approved' or state['iterations']>=state['max_iter']:\n",
    "        return 'approved'\n",
    "    else:\n",
    "        return 'remake'"
   ]
  },
  {
   "cell_type": "code",
   "execution_count": 12,
   "id": "91c7bfd9",
   "metadata": {},
   "outputs": [],
   "source": [
    "graph = StateGraph(PostState)\n",
    "\n",
    "graph.add_node('Create_Post',post_creator)\n",
    "graph.add_node('Evaluate_Post',post_evaluator)\n",
    "graph.add_node('Optimize_Post',post_optimizer)\n",
    "\n",
    "graph.add_edge(START,'Create_Post')\n",
    "graph.add_edge('Create_Post','Evaluate_Post')\n",
    "graph.add_conditional_edges('Evaluate_Post',post_validator,{'approved':END,'remake':'Optimize_Post'})\n",
    "graph.add_edge('Optimize_Post','Evaluate_Post')\n",
    "\n",
    "workflow = graph.compile()"
   ]
  },
  {
   "cell_type": "code",
   "execution_count": 13,
   "id": "5c56c7b9",
   "metadata": {},
   "outputs": [
    {
     "data": {
      "text/plain": [
       "{'topic': 'I Have built a agentic ai to mail pepople on my behalf\\n    - i learned langchain and langgraph to do it\\n    - it took me month to make\\n    - and i like agentic ai',\n",
       " 'post': \"After a month of dedicated work, I'm excited to share that I've built an agentic AI to handle email outreach on my behalf. This project was a deep dive into frameworks like LangChain and LangGraph, pushing my understanding of autonomous systems. Seeing it in action confirms my growing interest in the capabilities of agentic AI.\",\n",
       " 'evaluation': 'approved',\n",
       " 'feedback': \"The post is clear, professional, and highlights a specific accomplishment. Consider adding a brief note about the project's impact or your next steps to further boost engagement.\",\n",
       " 'iterations': 2,\n",
       " 'max_iter': 3,\n",
       " 'post_history': ['Alright, here are a few options for a LinkedIn post, playing with different angles of the witty, relatable, and ambitious engineering student persona. Choose the one that best fits your current mood or situation!\\n\\n---\\n\\n**Option 1: The \"Aha!\" Moment after the Grind**\\n\\n> Just emerged from the lab after what felt like a 12-hour wrestling match with a particularly stubborn algorithm. My brain cells are currently filing for divorce, but then, that *click*. That moment when the logic finally aligns, and the code compiles without a single error. Pure engineering magic ✨\\n>\\n> It\\'s moments like these that remind me why I chose this path – the thrill of problem-solving, the relentless pursuit of efficiency, and the satisfaction of turning a complex challenge into a working solution. (And maybe a little bit of caffeine.)\\n>\\n> Anyone else live for those \\'aha!\\' moments after hours of head-scratching? Or have a go-to late-night fuel? Asking for a friend... who is me. 😉\\n>\\n> #EngineeringLife #StudentEngineer #ProblemSolver #Coding #Algorithms #TechStudent #FutureEngineer #LinkedInForStudents\\n>\\n> *(Optional Photo: A messy desk with a laptop, code on screen, and an empty coffee cup, or a triumphant selfie with a slightly tired but happy smile)*\\n\\n---\\n\\n**Option 2: The Juggling Act & Growth Mindset**\\n\\n> My current status: Navigating the complex circuit of deadlines, group projects, and trying to remember if I\\'ve eaten anything other than instant noodles this week. 😅 It\\'s a lot, but honestly, I wouldn\\'t have it any other way.\\n>\\n> Every late night spent debugging, every challenging concept finally understood, feels like a level-up. I\\'m not just learning engineering; I\\'m learning resilience, time management (mostly), and the art of turning coffee into code.\\n>\\n> This journey is preparing me for so much more than just a job; it\\'s shaping how I approach problems in every aspect of life. Excited to see what else I can build (and break, then fix) along the way!\\n>\\n> What\\'s one unexpected skill you\\'ve gained during your academic journey?\\n>\\n> #EngineeringStudent #StudentLife #GrowthMindset #FutureInnovator #TimeManagement #Resilience #TechEducation #EngineersOfTomorrow\\n>\\n> *(Optional Photo: A clean, organized workspace, or a photo of your project/textbooks with a thoughtful look)*\\n\\n---\\n\\n**Option 3: The Lighthearted & Networking Focused**\\n\\n> Pretty sure my blood type is now C++ and my spirit animal is a constantly charging laptop. 🔋 Just wrapped up another week of diving deep into [mention a specific course/project, e.g., \"thermodynamics\" or \"microcontroller programming\"] and feeling that satisfying mix of exhaustion and accomplishment.\\n>\\n> The more I learn, the more I realize how much *more* there is to learn – and that\\'s the exciting part! Always keen to connect with fellow engineering minds, share insights, or just commiserate over the latest problem set.\\n>\\n> What\\'s been the most interesting (or frustrating!) challenge you\\'ve tackled recently in your field? Let\\'s swap war stories and maybe even solutions!\\n>\\n> #EngineeringCommunity #Networking #StudentSuccess #TechTalk #ProblemSolving #FutureEngineer #ConnectAndGrow #STEM\\n>\\n> *(Optional Photo: A friendly selfie, or a photo of your team working on a project)*\\n\\n---\\n\\n**Remember to:**\\n*   **Replace bracketed information** `[ ]` with your specific details.\\n*   **Choose a relevant photo** to make your post stand out!\\n*   **Engage with comments** you receive.\\n\\nGood luck, future engineer! You\\'ve got this.',\n",
       "  \"After a month of dedicated work, I'm excited to share that I've built an agentic AI to handle email outreach on my behalf. This project was a deep dive into frameworks like LangChain and LangGraph, pushing my understanding of autonomous systems. Seeing it in action confirms my growing interest in the capabilities of agentic AI.\"],\n",
       " 'feedback_history': ['The post is too long and unfocused. It presents multiple options, making it unclear what the actual post will be. Focus on one specific angle and rewrite the post with a clear message, concise content, and a call to action that encourages engagement.',\n",
       "  \"The post is clear, professional, and highlights a specific accomplishment. Consider adding a brief note about the project's impact or your next steps to further boost engagement.\"]}"
      ]
     },
     "execution_count": 13,
     "metadata": {},
     "output_type": "execute_result"
    }
   ],
   "source": [
    "initial_state = {\n",
    "    \"topic\": \"\"\"I Have built a agentic ai to mail pepople on my behalf\n",
    "    - i learned langchain and langgraph to do it\n",
    "    - it took me month to make\n",
    "    - and i like agentic ai\"\"\",\n",
    "    \"iterations\": 1,\n",
    "    \"max_iter\": 3\n",
    "}\n",
    "\n",
    "result = workflow.invoke(initial_state)\n",
    "result\n"
   ]
  },
  {
   "cell_type": "code",
   "execution_count": 14,
   "id": "65bd864b",
   "metadata": {},
   "outputs": [
    {
     "data": {
      "image/png": "[encoded data removed]",
      "text/plain": [
       "<langgraph.graph.state.CompiledStateGraph object at 0x0000014BBA5F4980>"
      ]
     },
     "execution_count": 14,
     "metadata": {},
     "output_type": "execute_result"
    }
   ],
   "source": [
    "workflow"
   ]
  },
  {
   "cell_type": "code",
   "execution_count": 15,
   "id": "96d18613",
   "metadata": {},
   "outputs": [
    {
     "name": "stdout",
     "output_type": "stream",
     "text": [
      "              +-----------+             \n",
      "              | __start__ |             \n",
      "              +-----------+             \n",
      "                     *                  \n",
      "                     *                  \n",
      "                     *                  \n",
      "              +-------------+           \n",
      "              | Create_Post |           \n",
      "              +-------------+           \n",
      "                     *                  \n",
      "                     *                  \n",
      "                     *                  \n",
      "            +---------------+           \n",
      "            | Evaluate_Post |           \n",
      "            +---------------+           \n",
      "              ***         ...           \n",
      "             *               .          \n",
      "           **                 ..        \n",
      "+---------------+           +---------+ \n",
      "| Optimize_Post |           | __end__ | \n",
      "+---------------+           +---------+ \n"
     ]
    }
   ],
   "source": [
    "from IPython.display import Image\n",
    "print(workflow.get_graph().draw_ascii())"
   ]
  }
 ],
 "metadata": {
  "kernelspec": {
   "display_name": ".venv",
   "language": "python",
   "name": "python3"
  },
  "language_info": {
   "codemirror_mode": {
    "name": "ipython",
    "version": 3
   },
   "file_extension": ".py",
   "mimetype": "text/x-python",
   "name": "python",
   "nbconvert_exporter": "python",
   "pygments_lexer": "ipython3",
   "version": "3.13.2"
  }
 },
 "nbformat": 4,
 "nbformat_minor": 5
}
