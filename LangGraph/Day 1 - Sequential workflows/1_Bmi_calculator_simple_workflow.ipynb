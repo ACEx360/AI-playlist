{
 "cells": [
  {
   "cell_type": "code",
   "execution_count": 10,
   "id": "590e654e",
   "metadata": {},
   "outputs": [],
   "source": [
    "from langgraph.graph import StateGraph , START , END\n",
    "from typing import TypedDict    "
   ]
  },
  {
   "cell_type": "code",
   "execution_count": 11,
   "id": "918f1532",
   "metadata": {},
   "outputs": [],
   "source": [
    "# Define State\n",
    "class bmiState(TypedDict):\n",
    "    weight : float\n",
    "    height : float\n",
    "    bmi : float\n",
    "    category : str"
   ]
  },
  {
   "cell_type": "code",
   "execution_count": 12,
   "id": "5d5369b1",
   "metadata": {},
   "outputs": [],
   "source": [
    "def calc_bmi(state:bmiState) -> bmiState:\n",
    "    weight = state['weight']\n",
    "    height = state['height']\n",
    "    bmi = weight / (height**2)\n",
    "    state['bmi'] = bmi\n",
    "    return state"
   ]
  },
  {
   "cell_type": "code",
   "execution_count": 13,
   "id": "ab4303be",
   "metadata": {},
   "outputs": [],
   "source": [
    "def bmi_class(state:bmiState) -> bmiState:\n",
    "    bmi = state['bmi']\n",
    "    if bmi < 18.5:\n",
    "        state[\"category\"] = \"Underweight\"\n",
    "    elif 18.5 <= bmi < 25:\n",
    "        state[\"category\"] = \"Normal\"\n",
    "    elif 25 <= bmi < 30:\n",
    "        state[\"category\"] = \"Overweight\"\n",
    "    else:\n",
    "        state[\"category\"] = \"Obese\"\n",
    "    return state"
   ]
  },
  {
   "cell_type": "code",
   "execution_count": 15,
   "id": "56c328bc",
   "metadata": {},
   "outputs": [],
   "source": [
    "# Define Graph\n",
    "graph = StateGraph(bmiState)\n",
    "\n",
    "# Add Nodes\n",
    "graph.add_node(\"calculate_bmi\",calc_bmi)\n",
    "graph.add_node(\"classify_bmi\",bmi_class)\n",
    "\n",
    "# Add edges\n",
    "graph.add_edge(START,'calculate_bmi')\n",
    "graph.add_edge('calculate_bmi','classify_bmi')\n",
    "graph.add_edge('classify_bmi',END)\n",
    "\n",
    "# Compile the graph\n",
    "workflow = graph.compile()"
   ]
  },
  {
   "cell_type": "code",
   "execution_count": 16,
   "id": "5abcd06b",
   "metadata": {},
   "outputs": [
    {
     "name": "stdout",
     "output_type": "stream",
     "text": [
      "{'weight': 80, 'height': 1.73, 'bmi': 26.729927495071667, 'category': 'Overweight'}\n"
     ]
    }
   ],
   "source": [
    "# Execute the Graph\n",
    "initial_state = {'weight':80,'height':1.73}\n",
    "final_state = workflow.invoke(initial_state)\n",
    "print(final_state)"
   ]
  },
  {
   "cell_type": "code",
   "execution_count": 17,
   "id": "4fb88b6a",
   "metadata": {},
   "outputs": [
    {
     "name": "stdout",
     "output_type": "stream",
     "text": [
      "  +-----------+    \n",
      "  | __start__ |    \n",
      "  +-----------+    \n",
      "        *          \n",
      "        *          \n",
      "        *          \n",
      "+---------------+  \n",
      "| calculate_bmi |  \n",
      "+---------------+  \n",
      "        *          \n",
      "        *          \n",
      "        *          \n",
      "+--------------+   \n",
      "| classify_bmi |   \n",
      "+--------------+   \n",
      "        *          \n",
      "        *          \n",
      "        *          \n",
      "   +---------+     \n",
      "   | __end__ |     \n",
      "   +---------+     \n"
     ]
    }
   ],
   "source": [
    "from IPython.display import Image\n",
    "print(workflow.get_graph().draw_ascii())"
   ]
  }
 ],
 "metadata": {
  "kernelspec": {
   "display_name": ".venv",
   "language": "python",
   "name": "python3"
  },
  "language_info": {
   "codemirror_mode": {
    "name": "ipython",
    "version": 3
   },
   "file_extension": ".py",
   "mimetype": "text/x-python",
   "name": "python",
   "nbconvert_exporter": "python",
   "pygments_lexer": "ipython3",
   "version": "3.13.2"
  }
 },
 "nbformat": 4,
 "nbformat_minor": 5
}
