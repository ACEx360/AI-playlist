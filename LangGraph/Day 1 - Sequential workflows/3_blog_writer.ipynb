{
 "cells": [
  {
   "cell_type": "code",
   "execution_count": 13,
   "id": "51019a2c",
   "metadata": {},
   "outputs": [],
   "source": [
    "from langgraph.graph import StateGraph,START,END\n",
    "from typing import TypedDict\n",
    "from dotenv import  load_dotenv\n",
    "from langchain_google_genai import ChatGoogleGenerativeAI"
   ]
  },
  {
   "cell_type": "code",
   "execution_count": 14,
   "id": "759b86b3",
   "metadata": {},
   "outputs": [],
   "source": [
    "load_dotenv()\n",
    "model = ChatGoogleGenerativeAI(\n",
    "    model='gemini-2.0-flash-lite',\n",
    "    max_tokens=250\n",
    ")"
   ]
  },
  {
   "cell_type": "code",
   "execution_count": 15,
   "id": "b7159274",
   "metadata": {},
   "outputs": [],
   "source": [
    "class BlogState(TypedDict):\n",
    "    topic : str\n",
    "    outline : str\n",
    "    blog : str\n",
    "    evaluation : str"
   ]
  },
  {
   "cell_type": "code",
   "execution_count": 16,
   "id": "979ec5f7",
   "metadata": {},
   "outputs": [],
   "source": [
    "def outline_maker(state:BlogState)->BlogState:\n",
    "    topic = state['topic']\n",
    "    prompt=f\"Create a detailed outline for the following topic - {topic}\"\n",
    "    outline = model.invoke(prompt).content\n",
    "    state['outline']=outline\n",
    "    return state"
   ]
  },
  {
   "cell_type": "code",
   "execution_count": 17,
   "id": "3e9f7f36",
   "metadata": {},
   "outputs": [],
   "source": [
    "def blog_maker(state:BlogState)->BlogState:\n",
    "    topic = state['topic']\n",
    "    outline = state['outline']\n",
    "    prompt=f\"Create a Blog on {topic} using folllowing outline {outline}\"\n",
    "    blog = model.invoke(prompt).content\n",
    "    state['blog']=blog\n",
    "    return state"
   ]
  },
  {
   "cell_type": "code",
   "execution_count": 18,
   "id": "81583a98",
   "metadata": {},
   "outputs": [],
   "source": [
    "def blog_evaluater(state:BlogState)->BlogState:\n",
    "    topic = state['topic']\n",
    "    outline = state['outline']\n",
    "    blog = state['blog']\n",
    "    prompt=f\"Evaluate the Blog -{blog} \\non topic -{topic} \\nfor folllowing outline -{outline}\"\n",
    "    evaluation = model.invoke(prompt).content\n",
    "    state['evaluation']=evaluation\n",
    "    return state"
   ]
  },
  {
   "cell_type": "code",
   "execution_count": 19,
   "id": "4f472ec6",
   "metadata": {},
   "outputs": [],
   "source": [
    "graph = StateGraph(BlogState)\n",
    "\n",
    "graph.add_node('Create_outline',outline_maker)\n",
    "graph.add_node('Create_blog',blog_maker)\n",
    "graph.add_node('Evaluate_blog',blog_evaluater)\n",
    "\n",
    "graph.add_edge(START,'Create_outline')\n",
    "graph.add_edge('Create_outline','Create_blog')\n",
    "graph.add_edge('Create_blog','Evaluate_blog')\n",
    "graph.add_edge('Evaluate_blog',END)\n",
    "\n",
    "workflow = graph.compile()"
   ]
  },
  {
   "cell_type": "code",
   "execution_count": 20,
   "id": "1fee40c6",
   "metadata": {},
   "outputs": [
    {
     "name": "stdout",
     "output_type": "stream",
     "text": [
      "  +-----------+    \n",
      "  | __start__ |    \n",
      "  +-----------+    \n",
      "         *         \n",
      "         *         \n",
      "         *         \n",
      "+----------------+ \n",
      "| Create_outline | \n",
      "+----------------+ \n",
      "         *         \n",
      "         *         \n",
      "         *         \n",
      "  +-------------+  \n",
      "  | Create_blog |  \n",
      "  +-------------+  \n",
      "         *         \n",
      "         *         \n",
      "         *         \n",
      "+---------------+  \n",
      "| Evaluate_blog |  \n",
      "+---------------+  \n",
      "         *         \n",
      "         *         \n",
      "         *         \n",
      "    +---------+    \n",
      "    | __end__ |    \n",
      "    +---------+    \n"
     ]
    }
   ],
   "source": [
    "from IPython.display import Image\n",
    "print(workflow.get_graph().draw_ascii())"
   ]
  },
  {
   "cell_type": "code",
   "execution_count": 21,
   "id": "2842153a",
   "metadata": {},
   "outputs": [],
   "source": [
    "initial_state = {'topic':\"Recursion\"}\n",
    "final_state = workflow.invoke(initial_state)"
   ]
  },
  {
   "cell_type": "code",
   "execution_count": 22,
   "id": "b4cbcd1d",
   "metadata": {},
   "outputs": [
    {
     "data": {
      "text/plain": [
       "{'topic': 'Recursion',\n",
       " 'outline': '## Detailed Outline: Recursion\\n\\nThis outline breaks down the concept of recursion, covering its definition, types, implementation, advantages, disadvantages, and practical applications.\\n\\n**I. Introduction to Recursion**\\n\\n*   **A. Definition of Recursion:**\\n    *   1.  Self-reference: A function calling itself.\\n    *   2.  Breaking down a problem into smaller, self-similar subproblems.\\n    *   3.  Focus on the \"divide and conquer\" paradigm.\\n*   **B. Key Concepts:**\\n    *   1.  Base Case: The condition that stops the recursion and provides a direct solution. (Crucial for avoiding infinite loops).\\n    *   2.  Recursive Step (Recursive Call): The function calling itself with a modified input, moving towards the base case.\\n    *   3.  Stack Frames and the Call Stack: Understanding how recursive calls are managed in memory.\\n*   **C. Analogy & Examples (Intuitive Understanding):**\\n    *   1.  Russian nesting dolls (Matryoshka dolls).\\n    *   2.  Fractals (e.g., the Mandelbrot set).\\n    ',\n",
       " 'blog': \"## Dive into Recursion: A Journey of Self-Reference\\n\\nRecursion, a powerful and elegant programming technique, often feels like a magic trick at first. But once you understand the core principles, it becomes a valuable tool for solving complex problems in a concise and often beautiful way. This blog post will demystify recursion, breaking it down into manageable pieces and equipping you with the knowledge to wield it effectively.\\n\\n**I. Introduction to Recursion**\\n\\nLet's start with the basics. What exactly *is* recursion?\\n\\n**A. Definition of Recursion:**\\n\\nAt its heart, recursion is all about **self-reference**. Think of it like a set of instructions that include a step that tells you to perform those same instructions again, but on a slightly different problem.\\n\\n1.  **Self-reference: A function calling itself.** This is the defining characteristic. A recursive function contains a call to *itself* within its own definition. This might seem paradoxical, but it's the key to its power.\\n\\n2.  **Breaking down a problem into smaller, self-similar subproblems.**  The core idea is to decompose a large, complex problem into smaller, identical versions of itself. Each\",\n",
       " 'evaluation': 'This blog post introduction is well-written and effectively sets the stage for a discussion on recursion. Here\\'s a breakdown of its strengths and potential areas for improvement:\\n\\n**Strengths:**\\n\\n*   **Engaging Opening:** The initial sentence (\"Recursion, a powerful and elegant programming technique, often feels like a magic trick at first.\") is captivating and immediately grabs the reader\\'s attention. It acknowledges the potential for confusion and promises to demystify the topic.\\n*   **Clear Definition:** The definition of recursion as \"self-reference\" is accurate and concise.\\n*   **Breaking Down the Concept:** The post clearly identifies the key elements of recursion: self-reference and breaking down the problem.\\n*   **Focus on \"Divide and Conquer\":** Mentioning the \"divide and conquer\" paradigm (implied in the problem-breaking down) is a great way to introduce the core strategy behind recursion.\\n*   **Well-Organized:** The use of headings (I. Introduction to Recursion, A. Definition of Recursion) provides a clear structure and makes the content easy to follow.\\n*   **Concise and Accessible Language:** The language is straightforward and avoids overly technical jargon, making it'}"
      ]
     },
     "execution_count": 22,
     "metadata": {},
     "output_type": "execute_result"
    }
   ],
   "source": [
    "final_state"
   ]
  },
  {
   "cell_type": "code",
   "execution_count": 24,
   "id": "7ee05d36",
   "metadata": {},
   "outputs": [
    {
     "name": "stdout",
     "output_type": "stream",
     "text": [
      "## Dive into Recursion: A Journey of Self-Reference\n",
      "\n",
      "Recursion, a powerful and elegant programming technique, often feels like a magic trick at first. But once you understand the core principles, it becomes a valuable tool for solving complex problems in a concise and often beautiful way. This blog post will demystify recursion, breaking it down into manageable pieces and equipping you with the knowledge to wield it effectively.\n",
      "\n",
      "**I. Introduction to Recursion**\n",
      "\n",
      "Let's start with the basics. What exactly *is* recursion?\n",
      "\n",
      "**A. Definition of Recursion:**\n",
      "\n",
      "At its heart, recursion is all about **self-reference**. Think of it like a set of instructions that include a step that tells you to perform those same instructions again, but on a slightly different problem.\n",
      "\n",
      "1.  **Self-reference: A function calling itself.** This is the defining characteristic. A recursive function contains a call to *itself* within its own definition. This might seem paradoxical, but it's the key to its power.\n",
      "\n",
      "2.  **Breaking down a problem into smaller, self-similar subproblems.**  The core idea is to decompose a large, complex problem into smaller, identical versions of itself. Each\n"
     ]
    }
   ],
   "source": [
    "print(final_state['blog'])"
   ]
  },
  {
   "cell_type": "code",
   "execution_count": 25,
   "id": "b1420200",
   "metadata": {},
   "outputs": [
    {
     "name": "stdout",
     "output_type": "stream",
     "text": [
      "This blog post introduction is well-written and effectively sets the stage for a discussion on recursion. Here's a breakdown of its strengths and potential areas for improvement:\n",
      "\n",
      "**Strengths:**\n",
      "\n",
      "*   **Engaging Opening:** The initial sentence (\"Recursion, a powerful and elegant programming technique, often feels like a magic trick at first.\") is captivating and immediately grabs the reader's attention. It acknowledges the potential for confusion and promises to demystify the topic.\n",
      "*   **Clear Definition:** The definition of recursion as \"self-reference\" is accurate and concise.\n",
      "*   **Breaking Down the Concept:** The post clearly identifies the key elements of recursion: self-reference and breaking down the problem.\n",
      "*   **Focus on \"Divide and Conquer\":** Mentioning the \"divide and conquer\" paradigm (implied in the problem-breaking down) is a great way to introduce the core strategy behind recursion.\n",
      "*   **Well-Organized:** The use of headings (I. Introduction to Recursion, A. Definition of Recursion) provides a clear structure and makes the content easy to follow.\n",
      "*   **Concise and Accessible Language:** The language is straightforward and avoids overly technical jargon, making it\n"
     ]
    }
   ],
   "source": [
    "print(final_state['evaluation'])"
   ]
  }
 ],
 "metadata": {
  "kernelspec": {
   "display_name": ".venv",
   "language": "python",
   "name": "python3"
  },
  "language_info": {
   "codemirror_mode": {
    "name": "ipython",
    "version": 3
   },
   "file_extension": ".py",
   "mimetype": "text/x-python",
   "name": "python",
   "nbconvert_exporter": "python",
   "pygments_lexer": "ipython3",
   "version": "3.13.2"
  }
 },
 "nbformat": 4,
 "nbformat_minor": 5
}
